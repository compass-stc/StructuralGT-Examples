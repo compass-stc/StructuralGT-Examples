{
 "cells": [
  {
   "cell_type": "markdown",
   "metadata": {},
   "source": [
    "# Image processing\n",
    "## Notebook overview\n",
    "- Explain how images networks should be processed before graph extraction\n",
    "\n",
    "## Boilerplate code"
   ]
  },
  {
   "cell_type": "code",
   "execution_count": 1,
   "metadata": {},
   "outputs": [],
   "source": [
    "from StructuralGT.networks import Network\n",
    "Nanowires = Network('Nanowires')"
   ]
  },
  {
   "cell_type": "markdown",
   "metadata": {},
   "source": [
    "Once you have a `Network` object, the next step involves binarizing your networked images.  Optimal values for these parameters are best identified through trial and error, which can be efficiently carried out with the aid of the `Binarizer` class, which offers interactive binarization in a Jupyter Notebook. To use, pass the file name of the image to the constructor:"
   ]
  },
  {
   "cell_type": "code",
   "execution_count": 2,
   "metadata": {},
   "outputs": [
    {
     "data": {
      "application/vnd.jupyter.widget-view+json": {
       "model_id": "9558f4f7da63426f8d06bfb830f874fa",
       "version_major": 2,
       "version_minor": 0
      },
      "text/plain": [
       "interactive(children=(Dropdown(description='Threshold', layout=Layout(display='flex', flex_flow='row', justify…"
      ]
     },
     "metadata": {},
     "output_type": "display_data"
    }
   ],
   "source": [
    "from StructuralGT import Binarizer\n",
    "\n",
    "B = Binarizer('Nanowires/Nanowires.tif')"
   ]
  },
  {
   "cell_type": "markdown",
   "metadata": {},
   "source": [
    "When you are finished, tick the Export box. This saves the current image processing options to a `img_options.json` file in the same directory as the image you are working with:\n",
    "```\n",
    "Nanowires/\n",
    "   Nanowires.tif\n",
    "   img_options.json\n",
    "```\n",
    "For simplicity, the parameters used in this tutorial are the default values. More commonly, you will need to modify them yourself for the best results. To use `img_options.json` to actually save a binary image, call the `binarize()` method of your `Network` object:"
   ]
  },
  {
   "cell_type": "code",
   "execution_count": 3,
   "metadata": {},
   "outputs": [],
   "source": [
    "Nanowires.binarize()"
   ]
  },
  {
   "cell_type": "markdown",
   "metadata": {},
   "source": [
    "The binary image will be saved in a new directory:\n",
    "```\n",
    "Nanowires/\n",
    "   Binarized/\n",
    "      slice0000.tiff\n",
    "   Nanowires.tif\n",
    "   img_options.json\n",
    "```\n",
    "If you later chose to carry out graph theoretic computations with *StructuralGT* on the `Nanowires` object, many of results will be stored at the `Binarized/` subdirectory, as opposed to at the `Nanowires/` level. This is because results depend on the particular choice of image processing parameters. If you wish to try a few different sets of parameters, specify how you would like to name the subdirectory for binarized image(s) and pass the different image processing options to different calls to `binarize()`. Image processing parameters may be passed as filenames or dictionaries:"
   ]
  },
  {
   "cell_type": "code",
   "execution_count": 12,
   "metadata": {},
   "outputs": [],
   "source": [
    "GaussianBlur = {\"Thresh_method\": 0, \"gamma\": 1.001, \"md_filter\": 0, \"g_blur\": 1, \n",
    "                \"autolvl\": 0, \"fg_color\": 0, \"laplacian\": 0, \"scharr\": 0, \"sobel\": 0,\n",
    "                \"lowpass\": 0, \"asize\": 3, \"bsize\": 11, \"wsize\": 1, \"thresh\": 128.0}\n",
    "\n",
    "AdaptiveThreshold = {\"Thresh_method\": 1, \"gamma\": 1.001, \"md_filter\": 0, \"g_blur\": 0, \n",
    "                \"autolvl\": 0, \"fg_color\": 0, \"laplacian\": 0, \"scharr\": 0, \"sobel\": 0,\n",
    "                \"lowpass\": 0, \"asize\": 55, \"bsize\": 1, \"wsize\": 1, \"thresh\": 128.0}\n",
    "\n",
    "Nanowires_GaussianBlur = Network('Nanowires', binarized_dir='GaussianBlur')\n",
    "Nanowires_GaussianBlur.binarize(options=GaussianBlur)\n",
    "\n",
    "Nanowires_AdaptiveThreshold = Network('Nanowires', binarized_dir='AdaptiveThreshold')\n",
    "Nanowires_AdaptiveThreshold.binarize(options=AdaptiveThreshold)"
   ]
  },
  {
   "cell_type": "markdown",
   "metadata": {},
   "source": [
    "```\n",
    "Nanowires/\n",
    "   AdaptiveThreshold/\n",
    "      slice0000.tiff\n",
    "   Binarized/\n",
    "      slice0000.tiff\n",
    "   GaussianBlur/\n",
    "      slice0000.tiff\n",
    "   Nanowires.tif\n",
    "   img_options.json\n",
    "```\n",
    "You will see that the Gaussian blur removed much of the noise in the image, and so will be the best image to use in future tutorials."
   ]
  }
 ],
 "metadata": {
  "kernelspec": {
   "display_name": "SGTE-dev",
   "language": "python",
   "name": "python3"
  },
  "language_info": {
   "codemirror_mode": {
    "name": "ipython",
    "version": 3
   },
   "file_extension": ".py",
   "mimetype": "text/x-python",
   "name": "python",
   "nbconvert_exporter": "python",
   "pygments_lexer": "ipython3",
   "version": "3.10.13"
  }
 },
 "nbformat": 4,
 "nbformat_minor": 2
}
