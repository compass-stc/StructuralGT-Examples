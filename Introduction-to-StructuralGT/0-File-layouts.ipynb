{
 "cells": [
  {
   "cell_type": "markdown",
   "metadata": {},
   "source": [
    "# File layouts\n",
    "## Notebook overview\n",
    "- Explain how images of 2D networks should be stored before using *StructuralGT*\n",
    "- Explain how image stacks of 3D networks should be named and stored, and named, before using *StructuralGT*\n",
    "- Give some examples of how *StructuralGT* will access the file system given a particular file system layout and set of constructor arguments\n",
    "\n",
    "## Interacting with network images using *StructuralGT*'s `Network` class\n",
    "*StructuralGT* interacts with images of networks via the `Network` class. Before using the `Network` class, you must first ensure your network images are laid out in your directory appropriately. Network images may be either a single image from which you would like to extract a two-dimensional (2D) network or it may be a stack of 2D images which represent a three-dimensional (3D) network. In either case, when using *StructuralGT*, **each material network must be stored in it’s own directory.** Let's look at some examples of how the `Network` class behaves given a particular file system layouts and constructor arguments.\n",
    "\n",
    "## 2D network images\n",
    "For 2D network images, it is simplest to store a single image in a directory. Let's take an image than was used in a publication with *StructuralGT*:\n",
    "```\n",
    "Nanowires/\n",
    "   Nanowires.tif\n",
    "```\n",
    "Instantiate an instance of the `Network` class with the directory name as the sole argument to the constructor:"
   ]
  },
  {
   "cell_type": "code",
   "execution_count": 3,
   "metadata": {},
   "outputs": [],
   "source": [
    "from StructuralGT.networks import Network\n",
    "Nanowires = Network('Nanowires')"
   ]
  },
  {
   "cell_type": "markdown",
   "metadata": {},
   "source": [
    "If you begin to add new samples to the directory, without changing the above command, *StructuralGT* will automatically pick the first alphanumeric image:\n",
    "```\n",
    "Nanowires_all/\n",
    "   Nanowires_30um.tif\n",
    "   Nanowires_45um.tif\n",
    "   Nanowires_60um.tif\n",
    "```\n",
    "Because this behavior is sensitive to the directory contents, it should be avoided, and the user is warned accordingly."
   ]
  },
  {
   "cell_type": "code",
   "execution_count": 4,
   "metadata": {},
   "outputs": [
    {
     "name": "stderr",
     "output_type": "stream",
     "text": [
      "/Users/alaink/miniconda3/envs/SGTE-dev/lib/python3.10/site-packages/StructuralGT-0.0.1-py3.10-macosx-11.0-arm64.egg/StructuralGT/networks.py:71: UserWarning: You have specified a 2D network but there are several suitable images in the given directory. By default, StructuralGT will take the first image. To override, specify the prefix argument.\n",
      "  warnings.warn(\"You have specified a 2D network but there are several suitable images in the given directory. By default, StructuralGT will take the first image. To override, specify the prefix argument.\")\n"
     ]
    }
   ],
   "source": [
    "Nanowires = Network('Nanowires_all')"
   ]
  },
  {
   "cell_type": "markdown",
   "metadata": {},
   "source": [
    "The best way to interact with all 3 network images is to lay them out in separate directories:\n",
    "```\n",
    "Nanowires_30um/\n",
    "   Nanowires.tif\n",
    "Nanowires_45um/\n",
    "   Nanowires.tif\n",
    "Nanowires_60um/\n",
    "   Nanowires.tif\n",
    "```"
   ]
  },
  {
   "cell_type": "markdown",
   "metadata": {},
   "source": [
    "However, it may be that you wish to include auxillary image files in each sample directory:\n",
    "```\n",
    "Nanowires_30um/\n",
    "   Microscopy_image.tif\n",
    "   Scalebar.tif\n",
    "Nanowires_45um/\n",
    "   Microscopy_image.tif\n",
    "   Scalebar.tif\n",
    "Nanowires_60um/\n",
    "   Microscopy_image.tif\n",
    "   Scalebar.tif\n",
    "```\n",
    "In this case, you should specify the `prefix` argument, which will ensure *StructuralGT* only looks for file names which contain the given prefix."
   ]
  },
  {
   "cell_type": "code",
   "execution_count": 6,
   "metadata": {},
   "outputs": [],
   "source": [
    "Nanowires30 = Network('Nanowires_30um', prefix='Microscopy_image')\n",
    "Nanowires45 = Network('Nanowires_45um', prefix='Microscopy_image')\n",
    "Nanowires60 = Network('Nanowires_60um', prefix='Microscopy_image')"
   ]
  },
  {
   "cell_type": "markdown",
   "metadata": {},
   "source": [
    "## 3D images\n",
    "For 3D data, the images must be stored as a stack of 2D images and all of which must be named with an identical prefix, followed by a 4 digit identification of its depth, e.g. slice0000.tiff:\n",
    "```\n",
    "Nanofibres/\n",
    "   slice0281.tif\n",
    "   slice0282.tif\n",
    "   ...\n",
    "   slice0292.tif\n",
    "   ```\n",
    "For ease of demonstration the number of files in this directory is significantly smaller than that typically required. For 3D network images, `prefix` must be specified, and `dim` must be set to `3`."
   ]
  },
  {
   "cell_type": "code",
   "execution_count": null,
   "metadata": {},
   "outputs": [],
   "source": [
    "#TODO\n",
    "#Nanofibres = Network()"
   ]
  },
  {
   "cell_type": "markdown",
   "metadata": {},
   "source": []
  }
 ],
 "metadata": {
  "kernelspec": {
   "display_name": "SGTE-dev",
   "language": "python",
   "name": "python3"
  },
  "language_info": {
   "codemirror_mode": {
    "name": "ipython",
    "version": 3
   },
   "file_extension": ".py",
   "mimetype": "text/x-python",
   "name": "python",
   "nbconvert_exporter": "python",
   "pygments_lexer": "ipython3",
   "version": "3.10.13"
  }
 },
 "nbformat": 4,
 "nbformat_minor": 2
}
